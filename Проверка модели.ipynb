{
 "cells": [
  {
   "cell_type": "markdown",
   "metadata": {},
   "source": [
    "## Для проверки модели надо последовательно загружать блоки сверху вниз"
   ]
  },
  {
   "cell_type": "code",
   "execution_count": null,
   "metadata": {},
   "outputs": [],
   "source": [
    "# Загрузка необходимых библиотек и модулей\n",
    "import pandas as pd\n",
    "import numpy as np\n",
    "import pickle\n",
    "import re\n",
    "from keras.preprocessing.text import Tokenizer\n",
    "from keras import models"
   ]
  },
  {
   "cell_type": "code",
   "execution_count": null,
   "metadata": {},
   "outputs": [],
   "source": [
    "# Модуль для работы с моделями (сохранить / загрузить), чтобы каждый раз не создавать её заново\n",
    "def load_model(model_name):\n",
    "    return models.load_model(model_name+'.h5')"
   ]
  },
  {
   "cell_type": "code",
   "execution_count": null,
   "metadata": {},
   "outputs": [],
   "source": [
    "# Модуль для работы с Токенайзером (сохраненить / загрузить), чтобы каждый раз не создавать его заново\n",
    "def read_from_pickle(file_name):\n",
    "    with open(file_name + '.pickle', 'rb') as file:\n",
    "        return pickle.load(file)"
   ]
  },
  {
   "cell_type": "code",
   "execution_count": null,
   "metadata": {},
   "outputs": [],
   "source": [
    "tokenizer = read_from_pickle('tokenizer_for_keras_2.2.1')\n",
    "model = load_model('model_for_keras_2.2.1')"
   ]
  },
  {
   "cell_type": "code",
   "execution_count": null,
   "metadata": {},
   "outputs": [],
   "source": [
    "# Датасет из ATA IT\n",
    "ATA_csv = 'csv/posts.csv'\n",
    "ATA_df = pd.read_csv(ATA_csv,sep=';').dropna()"
   ]
  },
  {
   "cell_type": "code",
   "execution_count": null,
   "metadata": {},
   "outputs": [],
   "source": [
    "def clear_text(text):\n",
    "    text = text.replace(\"\\\\\", \" \").replace(u\"╚\", \" \").replace(u\"╩\", \" \")\n",
    "    text = text.lower()\n",
    "    text = re.sub('\\-\\s\\r\\n\\s{1,}|\\-\\s\\r\\n|\\r\\n', ' ', text)\n",
    "    text = re.sub('[.,:;_%©?*,!@#$%^&()\\d]|[+=]|[[]|[]]|[/]|\"|\\s{2,}|-', ' ', text)\n",
    "    text = re.sub('[^а-яА-Я ]', ' ', text)\n",
    "    text = re.sub(' +', ' ', text)\n",
    "\n",
    "    return text"
   ]
  },
  {
   "cell_type": "code",
   "execution_count": null,
   "metadata": {},
   "outputs": [],
   "source": [
    "ATA_title = ATA_df.title"
   ]
  },
  {
   "cell_type": "code",
   "execution_count": null,
   "metadata": {},
   "outputs": [],
   "source": [
    "def predict_toxical(text):\n",
    "    matrixFromtokenizer = tokenizer.texts_to_matrix(np.array([clear_text(text)]), mode='count')\n",
    "    predict = model.predict(np.array(matrixFromtokenizer))[0][0]\n",
    "    print('Токсичность данного заголовка равна: {:.2f}%'.format(predict*100))\n",
    "for i in range(20):\n",
    "    predict_toxical(ATA_title[i])"
   ]
  }
 ],
 "metadata": {
  "kernelspec": {
   "display_name": "Python 3",
   "language": "python",
   "name": "python3"
  },
  "language_info": {
   "codemirror_mode": {
    "name": "ipython",
    "version": 3
   },
   "file_extension": ".py",
   "mimetype": "text/x-python",
   "name": "python",
   "nbconvert_exporter": "python",
   "pygments_lexer": "ipython3",
   "version": "3.7.3"
  }
 },
 "nbformat": 4,
 "nbformat_minor": 2
}
